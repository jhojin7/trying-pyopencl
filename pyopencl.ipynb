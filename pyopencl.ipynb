{
 "cells": [
  {
   "cell_type": "code",
   "execution_count": 1,
   "metadata": {},
   "outputs": [],
   "source": [
    "# !pip install pyopencl\n",
    "# !pip install pytorch\n",
    "import pyopencl as cl\n",
    "import numpy as np\n",
    "import timeit\n",
    "# # !pip3 install torch torchvision torchaudio\n",
    "import torch"
   ]
  },
  {
   "cell_type": "code",
   "execution_count": 2,
   "metadata": {},
   "outputs": [],
   "source": [
    "def sequential(a,res):\n",
    "    for i in range(len(a)):\n",
    "        res[i] = a[i] * a[i]\n",
    "    return res\n",
    "\n",
    "def parallel(a,res):\n",
    "    ctx = cl.create_some_context()\n",
    "    queue = cl.CommandQueue(ctx)\n",
    "    mf = cl.mem_flags\n",
    "    a_buf = cl.Buffer(ctx, mf.READ_ONLY | mf.COPY_HOST_PTR, hostbuf=a)\n",
    "    dest_buf = cl.Buffer(ctx, mf.WRITE_ONLY, res.nbytes)\n",
    "    prg = cl.Program(ctx, \"\"\"\n",
    "        __kernel void sq(__global const float *a,\n",
    "        __global float *c)\n",
    "        {\n",
    "        int gid = get_global_id(0);\n",
    "        c[gid] = a[gid] * a[gid];\n",
    "        }\n",
    "        \"\"\").build()\n",
    "\n",
    "    prg.sq(queue, a.shape, None, a_buf, dest_buf)\n",
    "    cl.enqueue_copy(queue, res, dest_buf)\n",
    "    return res"
   ]
  },
  {
   "cell_type": "code",
   "execution_count": 3,
   "metadata": {},
   "outputs": [
    {
     "name": "stdout",
     "output_type": "stream",
     "text": [
      "[0.77429472 0.34442607 0.68356206 ... 0.30644037 0.65627373 0.09778403] [0. 0. 0. ... 0. 0. 0.] True\n",
      "10.372143099999999 0.39606540000000123\n",
      "9.402723599999998 0.11414449999999476\n"
     ]
    }
   ],
   "source": [
    "N = 10**7\n",
    "a = np.random.random(N)\n",
    "res = np.zeros(N)\n",
    "# a = np.arange(N).astype(np.float32)\n",
    "# res = np.empty_like(a)\n",
    "print(a,res,len(a)==len(res))\n",
    "\n",
    "# gc off \n",
    "tx = timeit.Timer(\"sequential(a,res)\",globals=globals()).timeit(number=3)\n",
    "ty = timeit.Timer(\"parallel(a,res)\",globals=globals()).timeit(number=3)\n",
    "print(tx,ty)\n",
    "\n",
    "# gc on\n",
    "import gc\n",
    "setup = \"gc.enable()\"\n",
    "tx = timeit.timeit(\"sequential(a,res)\",setup,globals=globals(),number=3)\n",
    "ty = timeit.timeit(\"parallel(a,res)\",setup,globals=globals(),number=3)\n",
    "print(tx,ty)"
   ]
  }
 ],
 "metadata": {
  "interpreter": {
   "hash": "552604fba8b52ab3f4fd3d0d63f792377da90ee558a7abfa38d318b5150eccb6"
  },
  "kernelspec": {
   "display_name": "Python 3.9.13 64-bit (windows store)",
   "language": "python",
   "name": "python3"
  },
  "language_info": {
   "codemirror_mode": {
    "name": "ipython",
    "version": 3
   },
   "file_extension": ".py",
   "mimetype": "text/x-python",
   "name": "python",
   "nbconvert_exporter": "python",
   "pygments_lexer": "ipython3",
   "version": "3.9.13"
  },
  "orig_nbformat": 4
 },
 "nbformat": 4,
 "nbformat_minor": 2
}
